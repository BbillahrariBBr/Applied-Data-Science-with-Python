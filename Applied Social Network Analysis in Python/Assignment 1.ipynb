{
 "cells": [
  {
   "cell_type": "markdown",
   "metadata": {},
   "source": [
    "---\n",
    "\n",
    "_You are currently looking at **version 1.1** of this notebook. To download notebooks and datafiles, as well as get help on Jupyter notebooks in the Coursera platform, visit the [Jupyter Notebook FAQ](https://www.coursera.org/learn/python-social-network-analysis/resources/yPcBs) course resource._\n",
    "\n",
    "---"
   ]
  },
  {
   "cell_type": "markdown",
   "metadata": {},
   "source": [
    "# Assignment 1 - Creating and Manipulating Graphs\n",
    "\n",
    "Eight employees at a small company were asked to choose 3 movies that they would most enjoy watching for the upcoming company movie night. These choices are stored in the file `Employee_Movie_Choices.txt`.\n",
    "\n",
    "A second file, `Employee_Relationships.txt`, has data on the relationships between different coworkers. \n",
    "\n",
    "The relationship score has value of `-100` (Enemies) to `+100` (Best Friends). A value of zero means the two employees haven't interacted or are indifferent.\n",
    "\n",
    "Both files are tab delimited."
   ]
  },
  {
   "cell_type": "code",
   "execution_count": 1,
   "metadata": {
    "collapsed": true
   },
   "outputs": [],
   "source": [
    "import networkx as nx\n",
    "import pandas as pd\n",
    "import numpy as np\n",
    "from networkx.algorithms import bipartite\n",
    "\n",
    "\n",
    "# This is the set of employees\n",
    "employees = set(['Pablo',\n",
    "                 'Lee',\n",
    "                 'Georgia',\n",
    "                 'Vincent',\n",
    "                 'Andy',\n",
    "                 'Frida',\n",
    "                 'Joan',\n",
    "                 'Claude'])\n",
    "\n",
    "# This is the set of movies\n",
    "movies = set(['The Shawshank Redemption',\n",
    "              'Forrest Gump',\n",
    "              'The Matrix',\n",
    "              'Anaconda',\n",
    "              'The Social Network',\n",
    "              'The Godfather',\n",
    "              'Monty Python and the Holy Grail',\n",
    "              'Snakes on a Plane',\n",
    "              'Kung Fu Panda',\n",
    "              'The Dark Knight',\n",
    "              'Mean Girls'])\n",
    "\n",
    "\n",
    "# you can use the following function to plot graphs\n",
    "# make sure to comment it out before submitting to the autograder\n",
    "def plot_graph(G, weight_name=None):\n",
    "    '''\n",
    "    G: a networkx G\n",
    "    weight_name: name of the attribute for plotting edge weights (if G is weighted)\n",
    "    '''\n",
    "    %matplotlib notebook\n",
    "    import matplotlib.pyplot as plt\n",
    "    \n",
    "    plt.figure()\n",
    "    pos = nx.spring_layout(G)\n",
    "    edges = G.edges()\n",
    "    weights = None\n",
    "    \n",
    "    if weight_name:\n",
    "        weights = [int(G[u][v][weight_name]) for u,v in edges]\n",
    "        labels = nx.get_edge_attributes(G,weight_name)\n",
    "        nx.draw_networkx_edge_labels(G,pos,edge_labels=labels)\n",
    "        nx.draw_networkx(G, pos, edges=edges, width=weights);\n",
    "    else:\n",
    "        nx.draw_networkx(G, pos, edges=edges);"
   ]
  },
  {
   "cell_type": "markdown",
   "metadata": {},
   "source": [
    "### Question 1\n",
    "\n",
    "Using NetworkX, load in the bipartite graph from `Employee_Movie_Choices.txt` and return that graph.\n",
    "\n",
    "*This function should return a networkx graph with 19 nodes and 24 edges*"
   ]
  },
  {
   "cell_type": "code",
   "execution_count": 1,
   "metadata": {},
   "outputs": [
    {
     "name": "stdout",
     "output_type": "stream",
     "text": [
      "#Employee\tMovie\r\n",
      "Andy\tAnaconda\r\n",
      "Andy\tMean Girls\r\n",
      "Andy\tThe Matrix\r\n",
      "Claude\tAnaconda\r\n",
      "Claude\tMonty Python and the Holy Grail\r\n",
      "Claude\tSnakes on a Plane\r\n",
      "Frida\tThe Matrix\r\n",
      "Frida\tThe Shawshank Redemption\r\n",
      "Frida\tThe Social Network\r\n"
     ]
    }
   ],
   "source": [
    "!head Employee_Movie_Choices.txt"
   ]
  },
  {
   "cell_type": "code",
   "execution_count": 11,
   "metadata": {
    "collapsed": true
   },
   "outputs": [],
   "source": [
    "def answer_one():    \n",
    "    \"\"\"\n",
    "    Using NetworkX, load in the bipartite graph from Employee_Movie_Choices.txt and return that graph.\n",
    "    \"\"\"\n",
    "    file_name = 'Employee_Movie_Choices.txt'\n",
    "    \n",
    "    # file contains two columns (emp name) and (movie title)\n",
    "    G = nx.read_edgelist(path = file_name,\n",
    "                         delimiter = '\\t')\n",
    "    \n",
    "    return G"
   ]
  },
  {
   "cell_type": "markdown",
   "metadata": {},
   "source": [
    "### Question 2\n",
    "\n",
    "Using the graph from the previous question, add nodes attributes named `'type'` where movies have the value `'movie'` and employees have the value `'employee'` and return that graph.\n",
    "\n",
    "*This function should return a networkx graph with node attributes `{'type': 'movie'}` or `{'type': 'employee'}`*"
   ]
  },
  {
   "cell_type": "code",
   "execution_count": 30,
   "metadata": {
    "collapsed": true
   },
   "outputs": [],
   "source": [
    "def answer_two():\n",
    "    \"\"\"\n",
    "    Using the graph from the previous question, add nodes attributes named 'type' where\n",
    "    movies have the value 'movie' and employees have the value 'employee' and return that graph.\n",
    "    \"\"\"\n",
    "    # create graph\n",
    "    G = answer_one()\n",
    "    \n",
    "    # assign attributes\n",
    "    for node in G.nodes():\n",
    "        if node in employees:\n",
    "            G.add_node(node, type=\"employee\")\n",
    "        else:\n",
    "            G.add_node(node, type=\"movie\")\n",
    "        \n",
    "    \n",
    "    return G"
   ]
  },
  {
   "cell_type": "markdown",
   "metadata": {
    "collapsed": true
   },
   "source": [
    "### Question 3\n",
    "\n",
    "Find a weighted projection of the graph from `answer_two` which tells us how many movies different pairs of employees have in common.\n",
    "\n",
    "*This function should return a weighted projected graph.*"
   ]
  },
  {
   "cell_type": "code",
   "execution_count": 34,
   "metadata": {
    "collapsed": true
   },
   "outputs": [],
   "source": [
    "def answer_three():\n",
    "    \"\"\"\n",
    "    Find a weighted projection of the graph from answer_two which tells us\n",
    "    how many movies different pairs of employees have in common.\n",
    "    \"\"\"\n",
    "    # create graph\n",
    "    G = answer_two()\n",
    "    \n",
    "    # make projection\n",
    "    G_p = nx.bipartite.weighted_projected_graph(G,employees)\n",
    "    \n",
    "    return G_p"
   ]
  },
  {
   "cell_type": "markdown",
   "metadata": {
    "collapsed": true
   },
   "source": [
    "### Question 4\n",
    "\n",
    "Suppose you'd like to find out if people that have a high relationship score also like the same types of movies.\n",
    "\n",
    "Find the Pearson correlation ( using `DataFrame.corr()` ) between employee relationship scores and the number of movies they have in common. If two employees have no movies in common it should be treated as a 0, not a missing value, and should be included in the correlation calculation.\n",
    "\n",
    "*This function should return a float.*"
   ]
  },
  {
   "cell_type": "code",
   "execution_count": 126,
   "metadata": {
    "collapsed": true
   },
   "outputs": [],
   "source": [
    "def answer_four():\n",
    "        \n",
    "    \"\"\"\n",
    "    Suppose you'd like to find out if people that have a high\n",
    "    relationship score also like the same types of movies.\n",
    "\n",
    "    Find the Pearson correlation ( using DataFrame.corr() )\n",
    "    between employee relationship scores and the number of movies\n",
    "    they have in common. If two employees have no movies in common\n",
    "    it should be treated as a 0, not a missing value, and should be included\n",
    "    in the correlation calculation.\n",
    "    \"\"\"\n",
    "    # load projected graph based on movie tastes\n",
    "    G_p_movies = answer_three()\n",
    "    \n",
    "    # load graph based on relationships\n",
    "    file_name = 'Employee_Relationships.txt'\n",
    "    \n",
    "    # file contains two columns (emp name) and (movie title)\n",
    "    G_friend = nx.read_weighted_edgelist(path = file_name,\n",
    "                         delimiter = '\\t')\n",
    "    \n",
    "    # convert data into pandas DataFrame\n",
    "    df1 = pd.DataFrame(G_p_movies.edges(data=True),columns=['From', 'To', 'movie_score'])\n",
    "    df1['movie_score'] = df1['movie_score'].apply(lambda x: x['weight'])\n",
    "    \n",
    "    # restructure edges for uniqueness\n",
    "    df1_copy = df1.copy()\n",
    "    df1_copy['From_'] = df1_copy[['From','To']].min(axis=1)\n",
    "    df1_copy['To_'] = df1_copy[['From','To']].max(axis=1)\n",
    "    df1_copy = df1_copy.drop(['From','To'],axis=1)\n",
    "    \n",
    "    # convert data into pandas DataFrame\n",
    "    df2 = pd.DataFrame(G_friend.edges(data=True),columns=['From', 'To', 'friend_score'])\n",
    "    df2['friend_score'] = df2['friend_score'].apply(lambda x: x['weight'])\n",
    "    \n",
    "    # restructure edges for uniqueness\n",
    "    df2_copy = df2.copy()\n",
    "    df2_copy['From_'] = df2_copy[['From','To']].min(axis=1)\n",
    "    df2_copy['To_'] = df2_copy[['From','To']].max(axis=1)\n",
    "    df2_copy = df2_copy.drop(['From','To'],axis=1)\n",
    "    \n",
    "    # merge df\n",
    "    df_merge = pd.merge(left=df1_copy,right=df2_copy,how='outer',left_on=['From_','To_'],right_on=['From_','To_'])\n",
    "    df_merge = df_merge.fillna(0)\n",
    "    \n",
    "    return df_merge['movie_score'].corr(df_merge['friend_score'])"
   ]
  }
 ],
 "metadata": {
  "coursera": {
   "course_slug": "python-social-network-analysis",
   "graded_item_id": "YNa9b",
   "launcher_item_id": "hvNc1",
   "part_id": "VbyiB"
  },
  "kernelspec": {
   "display_name": "Python 3",
   "language": "python",
   "name": "python3"
  },
  "language_info": {
   "codemirror_mode": {
    "name": "ipython",
    "version": 3
   },
   "file_extension": ".py",
   "mimetype": "text/x-python",
   "name": "python",
   "nbconvert_exporter": "python",
   "pygments_lexer": "ipython3",
   "version": "3.6.2"
  }
 },
 "nbformat": 4,
 "nbformat_minor": 2
}
