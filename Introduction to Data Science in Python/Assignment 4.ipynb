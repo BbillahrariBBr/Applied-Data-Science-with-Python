{
 "cells": [
  {
   "cell_type": "markdown",
   "metadata": {},
   "source": [
    "---\n",
    "\n",
    "_You are currently looking at **version 1.1** of this notebook. To download notebooks and datafiles, as well as get help on Jupyter notebooks in the Coursera platform, visit the [Jupyter Notebook FAQ](https://www.coursera.org/learn/python-data-analysis/resources/0dhYG) course resource._\n",
    "\n",
    "---"
   ]
  },
  {
   "cell_type": "code",
   "execution_count": 280,
   "metadata": {},
   "outputs": [
    {
     "name": "stdout",
     "output_type": "stream",
     "text": [
      "0.19.2\n"
     ]
    }
   ],
   "source": [
    "import pandas as pd\n",
    "import numpy as np\n",
    "from scipy.stats import ttest_ind\n",
    "print(pd.__version__)"
   ]
  },
  {
   "cell_type": "markdown",
   "metadata": {},
   "source": [
    "# Assignment 4 - Hypothesis Testing\n",
    "This assignment requires more individual learning than previous assignments - you are encouraged to check out the [pandas documentation](http://pandas.pydata.org/pandas-docs/stable/) to find functions or methods you might not have used yet, or ask questions on [Stack Overflow](http://stackoverflow.com/) and tag them as pandas and python related. And of course, the discussion forums are open for interaction with your peers and the course staff.\n",
    "\n",
    "Definitions:\n",
    "* A _quarter_ is a specific three month period, Q1 is January through March, Q2 is April through June, Q3 is July through September, Q4 is October through December.\n",
    "* A _recession_ is defined as starting with two consecutive quarters of GDP decline, and ending with two consecutive quarters of GDP growth.\n",
    "* A _recession bottom_ is the quarter within a recession which had the lowest GDP.\n",
    "* A _university town_ is a city which has a high percentage of university students compared to the total population of the city.\n",
    "\n",
    "**Hypothesis**: University towns have their mean housing prices less effected by recessions. Run a t-test to compare the ratio of the mean price of houses in university towns the quarter before the recession starts compared to the recession bottom. (`price_ratio=quarter_before_recession/recession_bottom`)\n",
    "\n",
    "The following data files are available for this assignment:\n",
    "* From the [Zillow research data site](http://www.zillow.com/research/data/) there is housing data for the United States. In particular the datafile for [all homes at a city level](http://files.zillowstatic.com/research/public/City/City_Zhvi_AllHomes.csv), ```City_Zhvi_AllHomes.csv```, has median home sale prices at a fine grained level.\n",
    "* From the Wikipedia page on college towns is a list of [university towns in the United States](https://en.wikipedia.org/wiki/List_of_college_towns#College_towns_in_the_United_States) which has been copy and pasted into the file ```university_towns.txt```.\n",
    "* From Bureau of Economic Analysis, US Department of Commerce, the [GDP over time](http://www.bea.gov/national/index.htm#gdp) of the United States in current dollars (use the chained value in 2009 dollars), in quarterly intervals, in the file ```gdplev.xls```. For this assignment, only look at GDP data from the first quarter of 2000 onward.\n",
    "\n",
    "Each function in this assignment below is worth 10%, with the exception of ```run_ttest()```, which is worth 50%."
   ]
  },
  {
   "cell_type": "code",
   "execution_count": 281,
   "metadata": {
    "collapsed": true
   },
   "outputs": [],
   "source": [
    "# Use this dictionary to map state names to two letter acronyms\n",
    "states = {'OH': 'Ohio', 'KY': 'Kentucky', 'AS': 'American Samoa', 'NV': 'Nevada', 'WY': 'Wyoming', 'NA': 'National', 'AL': 'Alabama', 'MD': 'Maryland', 'AK': 'Alaska', 'UT': 'Utah', 'OR': 'Oregon', 'MT': 'Montana', 'IL': 'Illinois', 'TN': 'Tennessee', 'DC': 'District of Columbia', 'VT': 'Vermont', 'ID': 'Idaho', 'AR': 'Arkansas', 'ME': 'Maine', 'WA': 'Washington', 'HI': 'Hawaii', 'WI': 'Wisconsin', 'MI': 'Michigan', 'IN': 'Indiana', 'NJ': 'New Jersey', 'AZ': 'Arizona', 'GU': 'Guam', 'MS': 'Mississippi', 'PR': 'Puerto Rico', 'NC': 'North Carolina', 'TX': 'Texas', 'SD': 'South Dakota', 'MP': 'Northern Mariana Islands', 'IA': 'Iowa', 'MO': 'Missouri', 'CT': 'Connecticut', 'WV': 'West Virginia', 'SC': 'South Carolina', 'LA': 'Louisiana', 'KS': 'Kansas', 'NY': 'New York', 'NE': 'Nebraska', 'OK': 'Oklahoma', 'FL': 'Florida', 'CA': 'California', 'CO': 'Colorado', 'PA': 'Pennsylvania', 'DE': 'Delaware', 'NM': 'New Mexico', 'RI': 'Rhode Island', 'MN': 'Minnesota', 'VI': 'Virgin Islands', 'NH': 'New Hampshire', 'MA': 'Massachusetts', 'GA': 'Georgia', 'ND': 'North Dakota', 'VA': 'Virginia'}"
   ]
  },
  {
   "cell_type": "code",
   "execution_count": 282,
   "metadata": {
    "umich_part_id": "021",
    "umich_partlist_id": "004"
   },
   "outputs": [],
   "source": [
    "def get_list_of_university_towns():\n",
    "    '''Returns a DataFrame of towns and the states they are in from the \n",
    "    university_towns.txt list. The format of the DataFrame should be:\n",
    "    DataFrame( [ [\"Michigan\", \"Ann Arbor\"], [\"Michigan\", \"Yipsilanti\"] ], \n",
    "    columns=[\"State\", \"RegionName\"]  )\n",
    "    \n",
    "    The following cleaning needs to be done:\n",
    "\n",
    "    1. For \"State\", removing characters from \"[\" to the end.\n",
    "    2. For \"RegionName\", when applicable, removing every character from \" (\" to the end.\n",
    "    3. Depending on how you read the data, you may need to remove newline character '\\n'. '''\n",
    "    \n",
    "    # create empty DataFrame\n",
    "    df_towns = pd.DataFrame(columns=[\"State\", \"RegionName\"])\n",
    "    \n",
    "    # file name\n",
    "    file_name = 'university_towns.txt'\n",
    "    \n",
    "    # data extraction\n",
    "    with open(file_name,'r') as f:\n",
    "        state = ''\n",
    "        region = ''\n",
    "        for row in f:\n",
    "            # check if contains state or region\n",
    "            if '[e' in row:\n",
    "                # save state\n",
    "                state = row.split('[ed')[0].strip()\n",
    "                continue\n",
    "            region = row.strip()\n",
    "            if '(' in region:\n",
    "                region = row.split('(')[0].strip()\n",
    "            # populate DataFrame\n",
    "            df_towns = df_towns.append({'State':state,'RegionName':region},ignore_index=True,)        \n",
    "    \n",
    "    return df_towns"
   ]
  },
  {
   "cell_type": "code",
   "execution_count": 283,
   "metadata": {
    "collapsed": true
   },
   "outputs": [],
   "source": [
    "def get_gdp_data():\n",
    "    \"\"\" Returns a clean dataframe containing the GDP data per quarter starting in 2000q1\"\"\"\n",
    "    \n",
    "    # file name\n",
    "    file_name = 'gdplev.xls'\n",
    "    \n",
    "    # load quarterly data and clean data\n",
    "    df_gdp = pd.read_excel(file_name,skiprows=5,\n",
    "                           index_col=0,parse_cols=[4,5,6]).dropna()\n",
    "    \n",
    "    index_start = df_gdp.index.get_loc('2000q1')\n",
    "    \n",
    "    # filter data to post 2000\n",
    "    df_gdp = df_gdp.ix[index_start:]\n",
    "    \n",
    "    return df_gdp"
   ]
  },
  {
   "cell_type": "code",
   "execution_count": 284,
   "metadata": {
    "umich_part_id": "022",
    "umich_partlist_id": "004"
   },
   "outputs": [],
   "source": [
    "def get_recession_start():\n",
    "    '''Returns the year and quarter of the recession start time as a \n",
    "    string value in a format such as 2005q3'''\n",
    "    \n",
    "    # recession dollars\n",
    "    dollars = 'GDP in billions of chained 2009 dollars'\n",
    "    \n",
    "    # load gdp data\n",
    "    df_gdp = get_gdp_data()[dollars]\n",
    "    \n",
    "    # find recession start\n",
    "    for i in range(1,len(df_gdp)-1):\n",
    "        if (df_gdp.iloc[i]<df_gdp.iloc[i-1]) and (df_gdp.iloc[i+1]<df_gdp.iloc[i]):\n",
    "            return df_gdp.index[i]\n",
    "    \n",
    "    return None"
   ]
  },
  {
   "cell_type": "code",
   "execution_count": 285,
   "metadata": {
    "umich_part_id": "023",
    "umich_partlist_id": "004"
   },
   "outputs": [],
   "source": [
    "def get_recession_end():\n",
    "    '''Returns the year and quarter of the recession end time as a \n",
    "    string value in a format such as 2005q3'''\n",
    "    \n",
    "    # recession dollars\n",
    "    dollars = 'GDP in billions of chained 2009 dollars'\n",
    "    \n",
    "    # load gdp data\n",
    "    df_gdp = get_gdp_data()[dollars]\n",
    "    \n",
    "    # keep data following recession start\n",
    "    df_gdp = df_gdp.ix[get_recession_start():]\n",
    "    \n",
    "    # find recession end\n",
    "    for i in range(2,len(df_gdp)-1):\n",
    "        if (df_gdp.iloc[i]>df_gdp.iloc[i-1]) and (df_gdp.iloc[i-1]>df_gdp.iloc[i-2]):\n",
    "            return df_gdp.index[i]\n",
    "    \n",
    "    return None"
   ]
  },
  {
   "cell_type": "code",
   "execution_count": 286,
   "metadata": {
    "umich_part_id": "024",
    "umich_partlist_id": "004"
   },
   "outputs": [],
   "source": [
    "def get_recession_bottom():\n",
    "    '''Returns the year and quarter of the recession bottom time as a \n",
    "    string value in a format such as 2005q3'''\n",
    "    \n",
    "    # recession dollars\n",
    "    dollars = 'GDP in billions of chained 2009 dollars'\n",
    "    \n",
    "    # load gdp data\n",
    "    df_gdp = get_gdp_data()[dollars]\n",
    "    \n",
    "    # recession starts\n",
    "    start = get_recession_start()\n",
    "    end = get_recession_end()\n",
    "    \n",
    "    # recession data\n",
    "    df_gdp = df_gdp.ix[start:end]\n",
    "    \n",
    "    return df_gdp.idxmin()"
   ]
  },
  {
   "cell_type": "code",
   "execution_count": 287,
   "metadata": {},
   "outputs": [],
   "source": [
    "def get_housing_data():\n",
    "    \"\"\"Return dataframe containing the housing data from Zillow.\"\"\"\n",
    "    \n",
    "    # file name\n",
    "    file_name = 'City_Zhvi_AllHomes.csv'\n",
    "    \n",
    "    # load housing data and clean data\n",
    "    df_housing = (pd.read_csv(file_name)\n",
    "                              .replace(to_replace='NaN', value=np.NaN)\n",
    "                              .convert_objects(convert_numeric=True))\n",
    "    \n",
    "    # remove uneccessary features\n",
    "    df_housing = df_housing.drop(['RegionID', 'Metro', 'CountyName', 'SizeRank'],axis=1)\n",
    "    \n",
    "    # convert state ID to state name\n",
    "    df_housing = df_housing.replace(states)\n",
    "    \n",
    "    # set multi-index\n",
    "    df_housing = df_housing.set_index(['State','RegionName'])\n",
    "        \n",
    "    # filter columns to only contain data starting from 2000\n",
    "    start_col = list(df_housing.columns.values).index('2000-01')\n",
    "    df_housing = df_housing.drop(df_housing.columns[:start_col], axis=1)\n",
    "    \n",
    "    return df_housing"
   ]
  },
  {
   "cell_type": "code",
   "execution_count": 288,
   "metadata": {
    "umich_part_id": "025",
    "umich_partlist_id": "004"
   },
   "outputs": [],
   "source": [
    "def convert_housing_data_to_quarters():\n",
    "    '''Converts the housing data to quarters and returns it as mean \n",
    "    values in a dataframe. This dataframe should be a dataframe with\n",
    "    columns for 2000q1 through 2016q3, and should have a multi-index\n",
    "    in the shape of [\"State\",\"RegionName\"].\n",
    "    \n",
    "    Note: Quarters are defined in the assignment description, they are\n",
    "    not arbitrary three month periods.\n",
    "    \n",
    "    The resulting dataframe should have 67 columns, and 10,730 rows.\n",
    "    '''\n",
    "    \n",
    "    # import data\n",
    "    df_housing = get_housing_data().T\n",
    "    \n",
    "    # convert index to time-stamp\n",
    "    df_housing.index = pd.to_datetime(df_housing.index)\n",
    "    \n",
    "    # resample index by quarter and aggregate using mean\n",
    "    df_housing = df_housing.resample('Q').mean()\n",
    "    \n",
    "    # convert index to proper values\n",
    "    df_housing.index = df_housing.index.map(lambda x: str(x.year)+'q'+str((x.month-1)//3+1))\n",
    "    \n",
    "    # transpose data frame\n",
    "    df_housing = df_housing.T\n",
    "    \n",
    "    return df_housing"
   ]
  },
  {
   "cell_type": "code",
   "execution_count": 289,
   "metadata": {
    "umich_part_id": "026",
    "umich_partlist_id": "004"
   },
   "outputs": [],
   "source": [
    "def run_ttest():\n",
    "    '''First creates new data showing the decline or growth of housing prices\n",
    "    between the recession start and the recession bottom. Then runs a ttest\n",
    "    comparing the university town values to the non-university towns values, \n",
    "    return whether the alternative hypothesis (that the two groups are the same)\n",
    "    is true or not as well as the p-value of the confidence. \n",
    "    \n",
    "    Return the tuple (different, p, better) where different=True if the t-test is\n",
    "    True at a p<0.01 (we reject the null hypothesis), or different=False if \n",
    "    otherwise (we cannot reject the null hypothesis). The variable p should\n",
    "    be equal to the exact p value returned from scipy.stats.ttest_ind(). The\n",
    "    value for better should be either \"university town\" or \"non-university town\"\n",
    "    depending on which has a lower mean price ratio (which is equivilent to a\n",
    "    reduced market loss).'''\n",
    "    \n",
    "    # load data\n",
    "    df_housing = convert_housing_data_to_quarters()\n",
    "    \n",
    "    # find start and bottom of recession\n",
    "    start_idx = df_housing.columns.get_loc(get_recession_start())\n",
    "    bottom_idx = df_housing.columns.get_loc(get_recession_bottom())\n",
    "    \n",
    "    #(price_ratio=quarter_before_recession/recession_bottom\n",
    "    df_housing['Ratio'] = df_housing[df_housing.columns[start_idx - 1]].div(df_housing[df_housing.columns[bottom_idx]])\n",
    "    \n",
    "    # filter data to relevant feature\n",
    "    df_housing = df_housing[['Ratio']]\n",
    "    \n",
    "    # load univercities cities\n",
    "    df_univ = get_list_of_university_towns().set_index(['State','RegionName'])\n",
    "    \n",
    "    # Univercity cities prices\n",
    "    df_univ_prices = pd.merge(left=df_housing,right=df_univ,how='inner',\n",
    "                            left_index=True,right_index=True)\n",
    "    \n",
    "    # generate non-university cities\n",
    "    non_univ = np.setdiff1d(df_housing.index,df_univ.index)\n",
    "    \n",
    "    # filter data to non-university cities\n",
    "    df_non_univ_prices = df_housing.loc[non_univ]\n",
    "    \n",
    "    # drop Na\n",
    "    df_univ_prices = df_univ_prices.dropna(axis=0)\n",
    "    df_non_univ_prices = df_non_univ_prices.dropna(axis=0)\n",
    "    \n",
    "    # T-test threshold\n",
    "    alpha = 0.01\n",
    "    \n",
    "    # perform T-test\n",
    "    s, p = ttest_ind(df_univ_prices['Ratio'], df_non_univ_prices['Ratio'])\n",
    "    \n",
    "    # assign output variables\n",
    "    different = p<alpha\n",
    "    better = \"university town\" if s<0 else \"non-university town\"\n",
    "    \n",
    "    return (different, p, better)"
   ]
  }
 ],
 "metadata": {
  "coursera": {
   "course_slug": "python-data-analysis",
   "graded_item_id": "Il9Fx",
   "launcher_item_id": "TeDW0",
   "part_id": "WGlun"
  },
  "kernelspec": {
   "display_name": "Python 3",
   "language": "python",
   "name": "python3"
  },
  "language_info": {
   "codemirror_mode": {
    "name": "ipython",
    "version": 3
   },
   "file_extension": ".py",
   "mimetype": "text/x-python",
   "name": "python",
   "nbconvert_exporter": "python",
   "pygments_lexer": "ipython3",
   "version": "3.6.0"
  },
  "umich": {
   "id": "Assignment 4",
   "version": "1.1"
  }
 },
 "nbformat": 4,
 "nbformat_minor": 1
}
